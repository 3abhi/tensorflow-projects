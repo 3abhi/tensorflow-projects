{
 "cells": [
  {
   "cell_type": "code",
   "execution_count": 2,
   "metadata": {},
   "outputs": [
    {
     "name": "stdout",
     "output_type": "stream",
     "text": [
      "[12.0, 30.0]\n"
     ]
    }
   ],
   "source": [
    "import tensorflow as tf\n",
    "logs_path = 'C:\\\\Users\\\\jaley\\\\git\\\\sess1'\n",
    "x= tf.placeholder(tf.float32);\n",
    "y= tf.placeholder(tf.float32);\n",
    "fxy =2*x*x+3*y*y;\n",
    "grads =tf.gradients(fxy,[x,y])\n",
    "with tf.Session() as sess:\n",
    "    print (sess.run(grads,feed_dict={x:3.0,y:5.0}))\n",
    "\n",
    "summary_writer = tf.summary.FileWriter(logs_path, graph=tf.get_default_graph())\n",
    "#tensorboard --logdir=/tmp/tensorflow_logs"
   ]
  },
  {
   "cell_type": "code",
   "execution_count": null,
   "metadata": {},
   "outputs": [],
   "source": []
  }
 ],
 "metadata": {
  "kernelspec": {
   "display_name": "Python 3",
   "language": "python",
   "name": "python3"
  },
  "language_info": {
   "codemirror_mode": {
    "name": "ipython",
    "version": 3
   },
   "file_extension": ".py",
   "mimetype": "text/x-python",
   "name": "python",
   "nbconvert_exporter": "python",
   "pygments_lexer": "ipython3",
   "version": "3.6.6"
  }
 },
 "nbformat": 4,
 "nbformat_minor": 2
}
