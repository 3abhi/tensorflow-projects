{
 "cells": [
  {
   "cell_type": "code",
   "execution_count": 2,
   "metadata": {},
   "outputs": [
    {
     "name": "stdout",
     "output_type": "stream",
     "text": [
      "[12.0]\n"
     ]
    }
   ],
   "source": [
    "import tensorflow as tf;\n",
    "x= tf.placeholder(tf.float32);\n",
    "fx =2*x*x;\n",
    "grads =tf.gradients(fx,x)\n",
    "with tf.Session() as sess:\n",
    "    print (sess.run(grads,feed_dict={x:3.0}))"
   ]
  },
  {
   "cell_type": "code",
   "execution_count": 3,
   "metadata": {},
   "outputs": [
    {
     "name": "stdout",
     "output_type": "stream",
     "text": [
      "[12.0, 30.0]\n"
     ]
    }
   ],
   "source": [
    "x= tf.placeholder(tf.float32);\n",
    "y= tf.placeholder(tf.float32);\n",
    "fxy =2*x*x+3*y*y;\n",
    "grads =tf.gradients(fxy,[x,y])\n",
    "with tf.Session() as sess:\n",
    "    print (sess.run(grads,feed_dict={x:3.0,y:5.0}))"
   ]
  },
  {
   "cell_type": "code",
   "execution_count": null,
   "metadata": {},
   "outputs": [],
   "source": [
    "import tensorflow as tf;\n",
    "import numpy as np;\n",
    "import matplotlib.pyplot as plt;\n",
    "x= tf.placeholder(tf.float32);\n",
    "fsigma = tf.nn.sigmoid(x);\n",
    "frelu = tf.nn.relu(x);\n",
    "ftanh = tf.nn.tanh(x)\n",
    "gradsigma =tf.gradients(fsigma,x)\n",
    "gradrelu = tf.gradients(frelu,x)\n",
    "gradtanh = tf.gradients(ftanh,x)"
   ]
  },
  {
   "cell_type": "code",
   "execution_count": null,
   "metadata": {},
   "outputs": [],
   "source": [
    "with tf.Session() as sess:\n",
    "    xval = np.linspace(-3,3,100)\n",
    "    # Gradient Calculation for Sigmoid;\n",
    "    gradsigmaval,sigmaval = (sess.run([gradsigma,fsigma],feed_dict={x:xval}))\n",
    "    \n",
    "    axarr[0].grid(color='g', linestyle='--', linewidth=1)\n",
    "    axarr[0].plot(xval,np.squeeze(gradsigmaval),label='sigmoid');\n",
    "    axarr[0].plot(xval,np.squeeze(sigmaval),label=\"gradient\");\n",
    "    axarr[0].set_title(\"sigmoid\");\n",
    "    axarr[0].legend(loc=\"upper right\")\n",
    "\n",
    "    # Gradient Calculation for tanh;\n",
    "    gradtanhval,tanhval = (sess.run([gradtanh,ftanh],feed_dict={x:xval}))\n",
    "    \n",
    "    axarr[1].grid(color='g', linestyle='--', linewidth=1)\n",
    "    axarr[1].plot(xval,np.squeeze(gradtanhval),label=\"tanh\");\n",
    "    axarr[1].plot(xval,np.squeeze(tanhval),label=\"gradient\");\n",
    "    axarr[1].set_title(\"tanh\");\n",
    "    axarr[1].legend(loc=\"upper right\")\n",
    "\n",
    "    # Gradient Calculation for relu;\n",
    "    xval = np.linspace(-1.5,1.5,100)\n",
    "    gradreluval,reluval = (sess.run([gradrelu,frelu],feed_dict={x:xval}))    \n",
    "    axarr[2].grid(color='g', linestyle='--', linewidth=1)\n",
    "    axarr[2].plot(xval,np.squeeze(gradreluval),label=\"relu\");\n",
    "    axarr[2].plot(xval,np.squeeze(reluval),label=\"gradient\");\n",
    "    axarr[1].set_title(\"relu\");\n",
    "    axarr[2].legend(loc=\"upper right\")\n",
    "    f.suptitle(\"Graphs describing gradients for various activations\")\n",
    "    plt.show()"
   ]
  }
 ],
 "metadata": {
  "kernelspec": {
   "display_name": "Python 3",
   "language": "python",
   "name": "python3"
  },
  "language_info": {
   "codemirror_mode": {
    "name": "ipython",
    "version": 3
   },
   "file_extension": ".py",
   "mimetype": "text/x-python",
   "name": "python",
   "nbconvert_exporter": "python",
   "pygments_lexer": "ipython3",
   "version": "3.6.6"
  }
 },
 "nbformat": 4,
 "nbformat_minor": 2
}
