{
 "cells": [
  {
   "cell_type": "markdown",
   "metadata": {},
   "source": [
    "# Tensorflow Example"
   ]
  },
  {
   "cell_type": "markdown",
   "metadata": {},
   "source": [
    "## Hello World Example"
   ]
  },
  {
   "cell_type": "code",
   "execution_count": 4,
   "metadata": {},
   "outputs": [
    {
     "name": "stdout",
     "output_type": "stream",
     "text": [
      "b'Hello, TensorFlow!'\n"
     ]
    }
   ],
   "source": [
    "import tensorflow as tf;\n",
    "\n",
    "hello = tf.constant('Hello, TensorFlow!')\n",
    "\n",
    "# Start tf session\n",
    "sess = tf.Session()\n",
    "\n",
    "# Run the op\n",
    "print(sess.run(hello))"
   ]
  },
  {
   "cell_type": "markdown",
   "metadata": {},
   "source": [
    "## Addition in Tensorflow"
   ]
  },
  {
   "cell_type": "code",
   "execution_count": 5,
   "metadata": {},
   "outputs": [
    {
     "name": "stdout",
     "output_type": "stream",
     "text": [
      "a=2, b=3\n",
      "Addition with constants: 5\n",
      "Multiplication with constants: 6\n"
     ]
    }
   ],
   "source": [
    "import tensorflow as tf\n",
    "\n",
    "a = tf.constant(2)\n",
    "b = tf.constant(3)\n",
    "\n",
    "# Launch the default graph.\n",
    "with tf.Session() as sess:\n",
    "    print(\"a=2, b=3\")\n",
    "    print(\"Addition with constants: %i\" % sess.run(a+b))\n",
    "    print(\"Multiplication with constants: %i\" % sess.run(a*b))\n"
   ]
  },
  {
   "cell_type": "markdown",
   "metadata": {},
   "source": [
    "## Using Placeholders in Tensorflow"
   ]
  },
  {
   "cell_type": "code",
   "execution_count": 6,
   "metadata": {},
   "outputs": [
    {
     "name": "stdout",
     "output_type": "stream",
     "text": [
      "Addition with variables: 5\n",
      "Multiplication with variables: 6\n"
     ]
    }
   ],
   "source": [
    "# Basic Operations with variable as graph input\n",
    "# The value returned by the constructor represents the output\n",
    "# of the Variable op. (define as input when running session)\n",
    "# tf Graph input\n",
    "a = tf.placeholder(tf.int16)\n",
    "b = tf.placeholder(tf.int16)\n",
    "\n",
    "# Define some operations\n",
    "add = tf.add(a, b)\n",
    "mul = tf.multiply(a, b)\n",
    "\n",
    "# Launch the default graph.\n",
    "with tf.Session() as sess:\n",
    "    # Run every operation with variable input\n",
    "    print(\"Addition with variables: %i\" % sess.run(add, feed_dict={a: 2, b: 3}))\n",
    "    print(\"Multiplication with variables: %i\" % sess.run(mul, feed_dict={a: 2, b: 3}))\n",
    "\n"
   ]
  },
  {
   "cell_type": "markdown",
   "metadata": {},
   "source": [
    "## Matrix Multiplication in Tensorflow"
   ]
  },
  {
   "cell_type": "code",
   "execution_count": 9,
   "metadata": {},
   "outputs": [
    {
     "name": "stdout",
     "output_type": "stream",
     "text": [
      "[[12.]]\n"
     ]
    }
   ],
   "source": [
    "matrix1 = tf.constant([[3., 3.]])\n",
    "matrix2 = tf.constant([[2.],[2.]])\n",
    "\n",
    "product = tf.matmul(matrix1, matrix2)\n",
    "\n",
    "with tf.Session() as sess:\n",
    "    result = sess.run(product)\n",
    "    print(result)\n"
   ]
  },
  {
   "cell_type": "markdown",
   "metadata": {},
   "source": [
    "# Variable in Tensorflow"
   ]
  },
  {
   "cell_type": "code",
   "execution_count": 37,
   "metadata": {},
   "outputs": [],
   "source": [
    "import tensorflow as tf\n",
    "from tensorflow.python.framework import ops\n",
    "#######################################\n",
    "######## Defining Variables ###########\n",
    "#######################################\n",
    "# Create three variables with some default values.\n",
    "weights = tf.Variable(tf.random_normal([2, 3], stddev=0.1),\n",
    "                      name=\"weights\")\n",
    "biases = tf.Variable(tf.zeros([3]), name=\"biases\")\n",
    "custom_variable = tf.Variable(tf.zeros([3]), name=\"custom\")\n",
    "# Get all the variables' tensors and store them in a list.\n",
    "all_variables_list = ops.get_collection(ops.GraphKeys.GLOBAL_VARIABLES)"
   ]
  },
  {
   "cell_type": "code",
   "execution_count": 38,
   "metadata": {},
   "outputs": [
    {
     "name": "stdout",
     "output_type": "stream",
     "text": [
      "[<tf.Variable 'Variable:0' shape=(1,) dtype=int32_ref>, <tf.Variable 'Variable_1:0' shape=(1,) dtype=int32_ref>, <tf.Variable 'Variable_2:0' shape=(1,) dtype=int32_ref>, <tf.Variable 'Variable_3:0' shape=(1,) dtype=int32_ref>, <tf.Variable 'Variable_4:0' shape=(1,) dtype=int32_ref>, <tf.Variable 'Variable_5:0' shape=(1,) dtype=int32_ref>, <tf.Variable 'Variable_6:0' shape=(1,) dtype=int32_ref>, <tf.Variable 'Variable_7:0' shape=(1,) dtype=int32_ref>, <tf.Variable 'Variable_8:0' shape=(1,) dtype=int32_ref>, <tf.Variable 'Variable_9:0' shape=(1,) dtype=int32_ref>, <tf.Variable 'Variable_10:0' shape=(1,) dtype=int32_ref>, <tf.Variable 'Variable_11:0' shape=(2,) dtype=int32_ref>, <tf.Variable 'Variable_12:0' shape=() dtype=int32_ref>, <tf.Variable 'Variable_13:0' shape=() dtype=int32_ref>, <tf.Variable 'Variable_14:0' shape=() dtype=int32_ref>, <tf.Variable 'Variable_15:0' shape=() dtype=int32_ref>, <tf.Variable 'Variable_16:0' shape=() dtype=int32_ref>, <tf.Variable 'Variable_17:0' shape=() dtype=int32_ref>, <tf.Variable 'Variable_18:0' shape=() dtype=int32_ref>, <tf.Variable 'Variable_19:0' shape=() dtype=int32_ref>, <tf.Variable 'Variable_20:0' shape=() dtype=int32_ref>, <tf.Variable 'Variable_21:0' shape=() dtype=int32_ref>, <tf.Variable 'Variable_22:0' shape=() dtype=int32_ref>, <tf.Variable 'Variable_23:0' shape=() dtype=int32_ref>, <tf.Variable 'Variable_24:0' shape=() dtype=int32_ref>, <tf.Variable 'weights:0' shape=(2, 3) dtype=float32_ref>, <tf.Variable 'biases:0' shape=(3,) dtype=float32_ref>, <tf.Variable 'custom:0' shape=(3,) dtype=float32_ref>]\n"
     ]
    }
   ],
   "source": [
    "print (all_variables_list)"
   ]
  },
  {
   "cell_type": "code",
   "execution_count": null,
   "metadata": {},
   "outputs": [],
   "source": []
  }
 ],
 "metadata": {
  "kernelspec": {
   "display_name": "Python 3",
   "language": "python",
   "name": "python3"
  },
  "language_info": {
   "codemirror_mode": {
    "name": "ipython",
    "version": 3
   },
   "file_extension": ".py",
   "mimetype": "text/x-python",
   "name": "python",
   "nbconvert_exporter": "python",
   "pygments_lexer": "ipython3",
   "version": "3.6.6"
  }
 },
 "nbformat": 4,
 "nbformat_minor": 2
}
